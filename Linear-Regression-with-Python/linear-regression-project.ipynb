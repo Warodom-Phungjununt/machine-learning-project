{
 "cells": [
  {
   "cell_type": "markdown",
   "metadata": {},
   "source": [
    "# Task 1: Introduction"
   ]
  },
  {
   "cell_type": "code",
   "execution_count": 1,
   "metadata": {},
   "outputs": [],
   "source": [
    "%matplotlib inline\n",
    "\n",
    "import numpy as np\n",
    "import matplotlib.pyplot as plt"
   ]
  },
  {
   "cell_type": "markdown",
   "metadata": {},
   "source": [
    "# Task 2: Dataset\n",
    "\n",
    "Real estate agent table:"
   ]
  },
  {
   "cell_type": "markdown",
   "metadata": {},
   "source": [
    "|Area|Distance|Price|\n",
    "|---|---|---|\n",
    "|70|3|21200|\n",
    "|50|1|22010|\n",
    "|120|9|24305|\n",
    "|100|2|31500|\n",
    "\n",
    "You can write the relationship with a 2-variable linear equation:\n",
    "\n",
    "$\n",
    "\\begin{equation}\n",
    "y = b + w_1.x_1 + w_2.x_2\n",
    "\\end{equation}\n",
    "$\n",
    "\n",
    "In a vector form:\n",
    "\n",
    "$\n",
    "\\begin{equation}\n",
    "y = b + (w_1 w_2).\\binom{x_1}{x_2}\n",
    "\\end{equation}\n",
    "$\n",
    "\n",
    "Where\n",
    "$\n",
    "\\begin{equation}\n",
    "W = (w_1 w_2)\n",
    "\\end{equation}\n",
    "$\n",
    "and\n",
    "$\n",
    "\\begin{equation}\n",
    "X = \\binom{x_1}{x_2}\n",
    "\\end{equation}\n",
    "$"
   ]
  },
  {
   "cell_type": "code",
   "execution_count": 2,
   "metadata": {},
   "outputs": [],
   "source": [
    "def generate_examples(num=1000):\n",
    "    W = [1.0, -3.0]\n",
    "    b = 1.0\n",
    "    \n",
    "    W = np.reshape(W, (2,1))\n",
    "    \n",
    "    X = np.random.randn(num,2)\n",
    "    \n",
    "    y = b + np.dot(X, W)\n",
    "    \n",
    "    y = np.reshape(y, (num, 1))\n",
    "    \n",
    "    return X, y"
   ]
  },
  {
   "cell_type": "code",
   "execution_count": 3,
   "metadata": {},
   "outputs": [],
   "source": [
    "X, y = generate_examples()"
   ]
  },
  {
   "cell_type": "code",
   "execution_count": 4,
   "metadata": {},
   "outputs": [
    {
     "name": "stdout",
     "output_type": "stream",
     "text": [
      "(1000, 2) (1000, 1)\n"
     ]
    }
   ],
   "source": [
    "print(X.shape, y.shape)"
   ]
  },
  {
   "cell_type": "code",
   "execution_count": 5,
   "metadata": {},
   "outputs": [
    {
     "name": "stdout",
     "output_type": "stream",
     "text": [
      "[-0.4285436  -0.10394706] [0.8832976]\n"
     ]
    }
   ],
   "source": [
    "print(X[0], y[0])"
   ]
  },
  {
   "cell_type": "markdown",
   "metadata": {},
   "source": [
    "# Task 3: Initialize Parameters"
   ]
  },
  {
   "cell_type": "markdown",
   "metadata": {},
   "source": [
    "The loss over **m** examples:\n",
    "\n",
    "$\n",
    "\\begin{equation}\n",
    "J = \\frac{1}{2m} \\sum_{i=1}^{m} (y - \\hat{y})^2\n",
    "\\end{equation}\n",
    "$\n",
    "\n",
    "The objective of the gradient descent algorithm is to minimize this loss value.\n",
    "\n",
    "Gradient Descent Objective is to \n",
    "$\n",
    "\\begin{equation}\n",
    "min(J)\n",
    "\\end{equation}\n",
    "$"
   ]
  },
  {
   "cell_type": "code",
   "execution_count": 6,
   "metadata": {},
   "outputs": [],
   "source": [
    "class Model:\n",
    "    def __init__(self, num_features):\n",
    "        self.num_features = num_features\n",
    "        self.W = np.random.randn(num_features, 1)\n",
    "        self.b = np.random.randn()"
   ]
  },
  {
   "cell_type": "code",
   "execution_count": 7,
   "metadata": {},
   "outputs": [
    {
     "name": "stdout",
     "output_type": "stream",
     "text": [
      "[[ 3.02190888]\n",
      " [-0.71600046]]\n",
      "0.6049729179087397\n"
     ]
    }
   ],
   "source": [
    "model = Model(2)\n",
    "print(model.W)\n",
    "print(model.b)"
   ]
  },
  {
   "cell_type": "markdown",
   "metadata": {},
   "source": [
    "# Task 4: Forward Pass"
   ]
  },
  {
   "cell_type": "markdown",
   "metadata": {},
   "source": [
    "The gradient descent algorithm can be simplified in 4 steps:\n",
    "\n",
    "1. Get predictions y_hat for X with current values of W and b.\n",
    "2. Compute the loss between y and y_hat\n",
    "3. Find gradients of the loss with respect to parameters W and b\n",
    "4. Update the values of W and b by subtracting the gradient values obtained in the previous step\n",
    "\n",
    "Let's simplify our linear equation a bit more for an example:\n",
    "$\n",
    "\\begin{equation}\n",
    "y = wx\n",
    "\\end{equation}\n",
    "$\n",
    "\n",
    "Let's plot J as a function of w\n",
    "\n",
    "![Loss vs Param](JvsW.png)\n",
    "\n",
    "The gradients of loss with respect to w:\n",
    "\n",
    "\\begin{equation}\n",
    "\\frac{dJ}{dw} = \\frac{\\delta{J}}{\\delta{w}} = \\lim_{\\epsilon \\to 0} \\frac{J(w + \\epsilon) - J(w)}{\\epsilon}\n",
    "\\end{equation}"
   ]
  },
  {
   "cell_type": "code",
   "execution_count": 8,
   "metadata": {},
   "outputs": [],
   "source": [
    "class Model(Model):\n",
    "    def forward_pass(self, X):\n",
    "        y_hat = self.b + np.dot(X, self.W)\n",
    "        return y_hat"
   ]
  },
  {
   "cell_type": "code",
   "execution_count": 9,
   "metadata": {},
   "outputs": [
    {
     "name": "stdout",
     "output_type": "stream",
     "text": [
      "(1000, 1) [-1.41365669]\n"
     ]
    }
   ],
   "source": [
    "y_hat = Model(2).forward_pass(X)\n",
    "print(y_hat.shape, y_hat[0])"
   ]
  },
  {
   "cell_type": "markdown",
   "metadata": {},
   "source": [
    "# Task 5: Compute Loss\n",
    "\n",
    "The loss over **m** examples:\n",
    "\n",
    "$\n",
    "\\begin{equation}\n",
    "J = \\frac{1}{2m} \\sum_{i=1}^{m} (y - \\hat{y})^2\n",
    "\\end{equation}\n",
    "$"
   ]
  },
  {
   "cell_type": "code",
   "execution_count": 10,
   "metadata": {},
   "outputs": [],
   "source": [
    "class Model(Model):\n",
    "    def compute_loss(self, y_hat, y_true):\n",
    "        return np.sum(np.square(y_hat - y_true))/(2*y_hat.shape[0])"
   ]
  },
  {
   "cell_type": "code",
   "execution_count": 11,
   "metadata": {},
   "outputs": [],
   "source": [
    "model = Model(2)\n",
    "y_hat = model.forward_pass(X)\n",
    "loss = model.compute_loss(y_hat, y)"
   ]
  },
  {
   "cell_type": "code",
   "execution_count": 12,
   "metadata": {},
   "outputs": [
    {
     "data": {
      "text/plain": [
       "14.66886408812138"
      ]
     },
     "execution_count": 12,
     "metadata": {},
     "output_type": "execute_result"
    }
   ],
   "source": [
    "loss"
   ]
  },
  {
   "cell_type": "markdown",
   "metadata": {},
   "source": [
    "# Task 6: Backward Pass\n",
    "\n",
    "The gradient of loss with respect to bias can be calculated with:\n",
    "\n",
    "$\n",
    "\\begin{equation}\n",
    "\\frac{dJ}{db} = \\frac{1}{m} \\sum_{i=1}^{m} (\\hat{y^{(i)}} - y^{(i)})\n",
    "\\end{equation}\n",
    "$\n",
    "\n",
    "$\n",
    "\\begin{equation}\n",
    "\\frac{dJ}{dW_j} = \\frac{1}{m} \\sum_{i=1}^{m} (\\hat{y^{(i)}} - y^{(i)}).x_j^{(i)}\n",
    "\\end{equation}\n",
    "$"
   ]
  },
  {
   "cell_type": "code",
   "execution_count": 13,
   "metadata": {},
   "outputs": [],
   "source": [
    "class Model(Model):\n",
    "    def backward_pass(self, X, y_true, y_hat):\n",
    "        m = y_hat.shape[0]\n",
    "        db = (1/m)*np.sum(y_hat-y_true)\n",
    "        dW = (1/m)*np.sum(np.dot(np.transpose(y_hat-y_true), X), axis=0)\n",
    "        return dW, db"
   ]
  },
  {
   "cell_type": "code",
   "execution_count": 14,
   "metadata": {},
   "outputs": [],
   "source": [
    "model = Model(2)\n",
    "\n",
    "X, y = generate_examples()\n",
    "y_hat = model.forward_pass(X)\n",
    "\n",
    "dW, db = model.backward_pass(X, y, y_hat)"
   ]
  },
  {
   "cell_type": "code",
   "execution_count": 15,
   "metadata": {},
   "outputs": [
    {
     "name": "stdout",
     "output_type": "stream",
     "text": [
      "[-2.21138588  3.26326886] -2.5083013867849706\n"
     ]
    }
   ],
   "source": [
    "print(dW, db)"
   ]
  },
  {
   "cell_type": "markdown",
   "metadata": {},
   "source": [
    "# Task 7: Update Parameters"
   ]
  },
  {
   "cell_type": "code",
   "execution_count": 16,
   "metadata": {},
   "outputs": [],
   "source": [
    "class Model(Model):\n",
    "    def update_params(self, dW, db, lr):\n",
    "        self.W = self.W - lr * np.reshape(dW, (self.num_features, 1))\n",
    "        self.b = self.b - db"
   ]
  },
  {
   "cell_type": "markdown",
   "metadata": {},
   "source": [
    "# Task 8: Training Loop"
   ]
  },
  {
   "cell_type": "code",
   "execution_count": 17,
   "metadata": {},
   "outputs": [],
   "source": [
    "class Model(Model):\n",
    "    def train(self, x_train, y_train, iterations, lr):\n",
    "        losses = []\n",
    "        for i in range (0, iterations):\n",
    "            y_hat = self.forward_pass(x_train)\n",
    "            loss = self.compute_loss(y_hat, y_train)\n",
    "            dW, db = self.backward_pass(x_train, y_train, y_hat)\n",
    "            self.update_params(dW, db, lr)\n",
    "            losses.append(loss)\n",
    "            if i%int(iterations/10) == 0:\n",
    "                print('Iter: {}, Loss: {:.4f}' .format(i,loss))\n",
    "        return losses"
   ]
  },
  {
   "cell_type": "code",
   "execution_count": 18,
   "metadata": {},
   "outputs": [],
   "source": [
    "model = Model(2)"
   ]
  },
  {
   "cell_type": "code",
   "execution_count": 19,
   "metadata": {},
   "outputs": [],
   "source": [
    "x_train, y_train = generate_examples()"
   ]
  },
  {
   "cell_type": "code",
   "execution_count": 20,
   "metadata": {},
   "outputs": [
    {
     "name": "stdout",
     "output_type": "stream",
     "text": [
      "Iter: 0, Loss: 6.3319\n",
      "Iter: 100, Loss: 3.3948\n",
      "Iter: 200, Loss: 1.9213\n",
      "Iter: 300, Loss: 1.0874\n",
      "Iter: 400, Loss: 0.6154\n",
      "Iter: 500, Loss: 0.3483\n",
      "Iter: 600, Loss: 0.1971\n",
      "Iter: 700, Loss: 0.1116\n",
      "Iter: 800, Loss: 0.0631\n",
      "Iter: 900, Loss: 0.0357\n"
     ]
    }
   ],
   "source": [
    "losses = model.train(x_train, y_train, 1000, 3e-3)"
   ]
  },
  {
   "cell_type": "code",
   "execution_count": 21,
   "metadata": {},
   "outputs": [
    {
     "data": {
      "image/png": "[encoded data removed]",
      "text/plain": [
       "<Figure size 432x288 with 1 Axes>"
      ]
     },
     "metadata": {
      "needs_background": "light"
     },
     "output_type": "display_data"
    }
   ],
   "source": [
    "plt.plot(losses);"
   ]
  },
  {
   "cell_type": "markdown",
   "metadata": {},
   "source": [
    "# Task 9: Predictions"
   ]
  },
  {
   "cell_type": "code",
   "execution_count": 54,
   "metadata": {},
   "outputs": [
    {
     "name": "stdout",
     "output_type": "stream",
     "text": [
      "(500, 2) (500, 1)\n"
     ]
    }
   ],
   "source": [
    "model_untrained = Model(2)\n",
    "\n",
    "x_test, y_test = generate_examples(500)\n",
    "print(x_test.shape, y_test.shape)"
   ]
  },
  {
   "cell_type": "code",
   "execution_count": 55,
   "metadata": {},
   "outputs": [],
   "source": [
    "preds_untrained = model_untrained.forward_pass(x_test)\n",
    "preds_trained = model.forward_pass(x_test)"
   ]
  },
  {
   "cell_type": "code",
   "execution_count": 56,
   "metadata": {},
   "outputs": [
    {
     "data": {
      "image/png": "[encoded data removed]",
      "text/plain": [
       "<Figure size 432x432 with 1 Axes>"
      ]
     },
     "metadata": {
      "needs_background": "light"
     },
     "output_type": "display_data"
    }
   ],
   "source": [
    "plt.figure(figsize = (6,6))\n",
    "plt.plot(preds_untrained, y_test, 'rx', label = 'Untrained')\n",
    "plt.plot(preds_trained, y_test, 'b.', label = 'trained')\n",
    "plt.legend()\n",
    "plt.xlabel('Predictions')\n",
    "plt.ylabel('Ground Truth')\n",
    "plt.show()"
   ]
  },
  {
   "cell_type": "code",
   "execution_count": null,
   "metadata": {},
   "outputs": [],
   "source": []
  }
 ],
 "metadata": {
  "kernelspec": {
   "display_name": "Python 3",
   "language": "python",
   "name": "python3"
  },
  "language_info": {
   "codemirror_mode": {
    "name": "ipython",
    "version": 3
   },
   "file_extension": ".py",
   "mimetype": "text/x-python",
   "name": "python",
   "nbconvert_exporter": "python",
   "pygments_lexer": "ipython3",
   "version": "3.7.0"
  }
 },
 "nbformat": 4,
 "nbformat_minor": 2
}
